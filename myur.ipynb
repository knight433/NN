{
 "cells": [
  {
   "cell_type": "code",
   "execution_count": null,
   "metadata": {},
   "outputs": [],
   "source": [
    "import numpy as np"
   ]
  },
  {
   "cell_type": "code",
   "execution_count": 106,
   "metadata": {},
   "outputs": [],
   "source": [
    "class Solution:\n",
    "    \n",
    "    def makenum(self,sign):\n",
    "         if sign== '-':\n",
    "             return -2147483648\n",
    "         elif sign==' ':\n",
    "             return 2147483647\n",
    "         \n",
    "    def myAtoi(self, s: str) -> int:\n",
    "        listOfNumbers = []\n",
    "        sign = ' '\n",
    "        atStart = True\n",
    "        prvZero = False\n",
    "        \n",
    "        for i in s:\n",
    "            if atStart and i == '0':\n",
    "                prvZero = True\n",
    "            elif atStart and i == '-' and sign == ' ' and prvZero == False:\n",
    "                sign = '-'\n",
    "                \n",
    "            elif atStart and i == '+' and sign == ' ' and prvZero == False:\n",
    "                sign = '+'\n",
    "            \n",
    "            elif atStart and i == ' ':\n",
    "                pass\n",
    "        \n",
    "            elif atStart and i.isdigit():\n",
    "                atStart = False\n",
    "            \n",
    "            elif atStart:\n",
    "                return 0\n",
    "                 \n",
    "            if atStart == False:\n",
    "                if i.isdigit():\n",
    "                    listOfNumbers.append(i)\n",
    "                elif i == ' ':\n",
    "                    pass\n",
    "                else:\n",
    "                    break\n",
    "     \n",
    "        \n",
    "        if len(listOfNumbers) == 0:\n",
    "            return 0\n",
    "        \n",
    "        fullNumber = ''.join(listOfNumbers) \n",
    "     \n",
    "        num = int(fullNumber)\n",
    "        \n",
    "        if num > -2**32 and num < 2**31:\n",
    "            num = num\n",
    "        else:\n",
    "            num = self.makenum(sign)\n",
    "            return num\n",
    "    \n",
    "        if sign == '-':\n",
    "            return -1*num\n",
    "        else:\n",
    "            return num"
   ]
  },
  {
   "cell_type": "code",
   "execution_count": 107,
   "metadata": {},
   "outputs": [
    {
     "data": {
      "text/plain": [
       "123"
      ]
     },
     "execution_count": 107,
     "metadata": {},
     "output_type": "execute_result"
    }
   ],
   "source": [
    "sol = Solution()\n",
    "sol.myAtoi(\"   +0 123\")"
   ]
  },
  {
   "cell_type": "code",
   "execution_count": 61,
   "metadata": {},
   "outputs": [
    {
     "name": "stdout",
     "output_type": "stream",
     "text": [
      "2147483647\n"
     ]
    }
   ],
   "source": [
    "a = 2147483647\n",
    "print(a)"
   ]
  }
 ],
 "metadata": {
  "kernelspec": {
   "display_name": "Python 3",
   "language": "python",
   "name": "python3"
  },
  "language_info": {
   "codemirror_mode": {
    "name": "ipython",
    "version": 3
   },
   "file_extension": ".py",
   "mimetype": "text/x-python",
   "name": "python",
   "nbconvert_exporter": "python",
   "pygments_lexer": "ipython3",
   "version": "3.11.5"
  }
 },
 "nbformat": 4,
 "nbformat_minor": 2
}
