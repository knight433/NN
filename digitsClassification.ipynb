{
 "cells": [
  {
   "cell_type": "code",
   "execution_count": 1,
   "metadata": {},
   "outputs": [
    {
     "name": "stdout",
     "output_type": "stream",
     "text": [
      "28\n"
     ]
    }
   ],
   "source": [
    "import numpy as np\n",
    "import neuralNetwork \n",
    "from os.path  import join\n",
    "from datasetLoad import MnistDataloader"
   ]
  },
  {
   "cell_type": "code",
   "execution_count": 2,
   "metadata": {},
   "outputs": [],
   "source": [
    "input_path = r'C:\\programs\\projects\\NN\\input'\n",
    "training_images_filepath = join(input_path, 'train-images-idx3-ubyte/train-images-idx3-ubyte')\n",
    "training_labels_filepath = join(input_path, 'train-labels-idx1-ubyte/train-labels-idx1-ubyte')\n",
    "test_images_filepath = join(input_path, 't10k-images-idx3-ubyte/t10k-images-idx3-ubyte')\n",
    "test_labels_filepath = join(input_path, 't10k-labels-idx1-ubyte/t10k-labels-idx1-ubyte')\n",
    "\n",
    "\n",
    "mnist_dataloader = MnistDataloader(training_images_filepath, training_labels_filepath, test_images_filepath, test_labels_filepath)\n",
    "(x_train, y_train), (x_test, y_test) = mnist_dataloader.load_data()\n",
    "\n",
    "x_train = np.array(x_train)\n",
    "x_test = np.array(x_test)\n",
    "\n",
    "# print(x_test[1],y_test[1])"
   ]
  },
  {
   "cell_type": "code",
   "execution_count": 4,
   "metadata": {},
   "outputs": [
    {
     "data": {
      "text/plain": [
       "'\\ninput parameters = 784\\nnumber of layers = 3\\n\\nlayer 1:\\nnumber of input: 784\\nnumber of neurons: 16\\nEnter the activation funtion: relu\\n\\nlayer 2:\\nnumber of input: 16\\nnumber of neurons: 16\\nEnter the activation funtion: relu\\n\\nlayer 3:\\nnumber of input: 16\\nnumber of neurons: 10\\nEnter the activation funtion: sigmoid\\n'"
      ]
     },
     "execution_count": 4,
     "metadata": {},
     "output_type": "execute_result"
    }
   ],
   "source": [
    "# Flatten the training and test images\n",
    "x_train_flat = x_train.reshape(x_train.shape[0], -1)  \n",
    "x_test_flat = x_test.reshape(x_test.shape[0], -1)     \n",
    "\n",
    "model = neuralNetwork.Model()\n",
    "\n",
    "'''\n",
    "input parameters = 784\n",
    "number of layers = 3\n",
    "\n",
    "layer 1:\n",
    "number of input: 784\n",
    "number of neurons: 16\n",
    "Enter the activation funtion: relu\n",
    "\n",
    "layer 2:\n",
    "number of input: 16\n",
    "number of neurons: 16\n",
    "Enter the activation funtion: relu\n",
    "\n",
    "layer 3:\n",
    "number of input: 16\n",
    "number of neurons: 10\n",
    "Enter the activation funtion: sigmoid\n",
    "'''"
   ]
  },
  {
   "cell_type": "code",
   "execution_count": 5,
   "metadata": {},
   "outputs": [
    {
     "name": "stderr",
     "output_type": "stream",
     "text": [
      "c:\\programs\\projects\\NN\\neuralNetwork.py:34: RuntimeWarning: overflow encountered in exp\n",
      "  return 1 / (1 + np.exp(-values))\n"
     ]
    },
    {
     "ename": "ValueError",
     "evalue": "operands could not be broadcast together with shapes (16,1,1) (16,10,1,10) ",
     "output_type": "error",
     "traceback": [
      "\u001b[1;31m---------------------------------------------------------------------------\u001b[0m",
      "\u001b[1;31mValueError\u001b[0m                                Traceback (most recent call last)",
      "Cell \u001b[1;32mIn[5], line 2\u001b[0m\n\u001b[0;32m      1\u001b[0m \u001b[38;5;28;01mfor\u001b[39;00m x,y \u001b[38;5;129;01min\u001b[39;00m \u001b[38;5;28mzip\u001b[39m(x_test_flat,y_test):\n\u001b[1;32m----> 2\u001b[0m     \u001b[43mmodel\u001b[49m\u001b[38;5;241;43m.\u001b[39;49m\u001b[43mtrain\u001b[49m\u001b[43m(\u001b[49m\u001b[43mx\u001b[49m\u001b[43m,\u001b[49m\u001b[43my\u001b[49m\u001b[43m)\u001b[49m\n",
      "File \u001b[1;32mc:\\programs\\projects\\NN\\neuralNetwork.py:138\u001b[0m, in \u001b[0;36mModel.train\u001b[1;34m(self, data, label, learningRate)\u001b[0m\n\u001b[0;32m    136\u001b[0m \u001b[38;5;66;03m# print(f'newValues = {i} - {newValues}') #debugging\u001b[39;00m\n\u001b[0;32m    137\u001b[0m derValues \u001b[38;5;241m=\u001b[39m np\u001b[38;5;241m.\u001b[39marray([layers\u001b[38;5;241m.\u001b[39mcompute_derivative(newValues)])\n\u001b[1;32m--> 138\u001b[0m cur_gradient \u001b[38;5;241m=\u001b[39m np\u001b[38;5;241m.\u001b[39marray(\u001b[43mnp\u001b[49m\u001b[38;5;241;43m.\u001b[39;49m\u001b[43mmultiply\u001b[49m\u001b[43m(\u001b[49m\u001b[43mderValues\u001b[49m\u001b[38;5;241;43m.\u001b[39;49m\u001b[43mT\u001b[49m\u001b[43m,\u001b[49m\u001b[43mpre_w\u001b[49m\u001b[43m)\u001b[49m)\n\u001b[0;32m    139\u001b[0m pr \u001b[38;5;241m=\u001b[39m np\u001b[38;5;241m.\u001b[39mdot(gradient,cur_gradient\u001b[38;5;241m.\u001b[39mT)\n\u001b[0;32m    140\u001b[0m prevNuronValues \u001b[38;5;241m=\u001b[39m np\u001b[38;5;241m.\u001b[39marray([\u001b[38;5;28mself\u001b[39m\u001b[38;5;241m.\u001b[39mlistOfHiddenLayers[i\u001b[38;5;241m-\u001b[39m\u001b[38;5;241m1\u001b[39m]\u001b[38;5;241m.\u001b[39mneuronValues])\n",
      "\u001b[1;31mValueError\u001b[0m: operands could not be broadcast together with shapes (16,1,1) (16,10,1,10) "
     ]
    }
   ],
   "source": [
    "for x,y in zip(x_test_flat,y_test):\n",
    "    model.train(x,y)"
   ]
  },
  {
   "cell_type": "code",
   "execution_count": 19,
   "metadata": {},
   "outputs": [
    {
     "ename": "ValueError",
     "evalue": "shapes (1,16) and (16,10,1,10) not aligned: 16 (dim 1) != 1 (dim 2)",
     "output_type": "error",
     "traceback": [
      "\u001b[1;31m---------------------------------------------------------------------------\u001b[0m",
      "\u001b[1;31mValueError\u001b[0m                                Traceback (most recent call last)",
      "Cell \u001b[1;32mIn[19], line 2\u001b[0m\n\u001b[0;32m      1\u001b[0m a \u001b[38;5;241m=\u001b[39m np\u001b[38;5;241m.\u001b[39marray([x_train_flat[\u001b[38;5;241m0\u001b[39m]])\n\u001b[1;32m----> 2\u001b[0m \u001b[43mmodel\u001b[49m\u001b[38;5;241;43m.\u001b[39;49m\u001b[43mpridict\u001b[49m\u001b[43m(\u001b[49m\u001b[43ma\u001b[49m\u001b[43m)\u001b[49m\n",
      "File \u001b[1;32mc:\\programs\\projects\\NN\\neuralNetwork.py:90\u001b[0m, in \u001b[0;36mModel.pridict\u001b[1;34m(self, data, ForTraining)\u001b[0m\n\u001b[0;32m     87\u001b[0m arr \u001b[38;5;241m=\u001b[39m \u001b[38;5;28mself\u001b[39m\u001b[38;5;241m.\u001b[39minLayerObj\u001b[38;5;241m.\u001b[39muse(data)\n\u001b[0;32m     89\u001b[0m \u001b[38;5;28;01mfor\u001b[39;00m layer \u001b[38;5;129;01min\u001b[39;00m \u001b[38;5;28mself\u001b[39m\u001b[38;5;241m.\u001b[39mlistOfHiddenLayers:\n\u001b[1;32m---> 90\u001b[0m     arr \u001b[38;5;241m=\u001b[39m \u001b[43mlayer\u001b[49m\u001b[38;5;241;43m.\u001b[39;49m\u001b[43mforward\u001b[49m\u001b[43m(\u001b[49m\u001b[43marr\u001b[49m\u001b[43m)\u001b[49m\n\u001b[0;32m     92\u001b[0m \u001b[38;5;28;01mif\u001b[39;00m ForTraining:\n\u001b[0;32m     93\u001b[0m     \u001b[38;5;28;01mreturn\u001b[39;00m arr\n",
      "File \u001b[1;32mc:\\programs\\projects\\NN\\neuralNetwork.py:59\u001b[0m, in \u001b[0;36mlayers.forward\u001b[1;34m(self, input_matrix)\u001b[0m\n\u001b[0;32m     58\u001b[0m \u001b[38;5;28;01mdef\u001b[39;00m \u001b[38;5;21mforward\u001b[39m(\u001b[38;5;28mself\u001b[39m, input_matrix):\n\u001b[1;32m---> 59\u001b[0m     values \u001b[38;5;241m=\u001b[39m \u001b[43mnp\u001b[49m\u001b[38;5;241;43m.\u001b[39;49m\u001b[43mdot\u001b[49m\u001b[43m(\u001b[49m\u001b[43minput_matrix\u001b[49m\u001b[43m,\u001b[49m\u001b[43m \u001b[49m\u001b[38;5;28;43mself\u001b[39;49m\u001b[38;5;241;43m.\u001b[39;49m\u001b[43mweight_matrix\u001b[49m\u001b[43m)\u001b[49m \u001b[38;5;241m+\u001b[39m \u001b[38;5;28mself\u001b[39m\u001b[38;5;241m.\u001b[39mbias\n\u001b[0;32m     60\u001b[0m     \u001b[38;5;28mself\u001b[39m\u001b[38;5;241m.\u001b[39mneuronValues \u001b[38;5;241m=\u001b[39m  \u001b[38;5;28mself\u001b[39m\u001b[38;5;241m.\u001b[39mapply_activation(values)\n\u001b[0;32m     61\u001b[0m     \u001b[38;5;28;01mreturn\u001b[39;00m \u001b[38;5;28mself\u001b[39m\u001b[38;5;241m.\u001b[39mneuronValues\n",
      "\u001b[1;31mValueError\u001b[0m: shapes (1,16) and (16,10,1,10) not aligned: 16 (dim 1) != 1 (dim 2)"
     ]
    }
   ],
   "source": [
    "a = np.array([x_train_flat[0]])\n",
    "model.pridict(a)"
   ]
  }
 ],
 "metadata": {
  "kernelspec": {
   "display_name": "Python 3",
   "language": "python",
   "name": "python3"
  },
  "language_info": {
   "codemirror_mode": {
    "name": "ipython",
    "version": 3
   },
   "file_extension": ".py",
   "mimetype": "text/x-python",
   "name": "python",
   "nbconvert_exporter": "python",
   "pygments_lexer": "ipython3",
   "version": "3.11.5"
  }
 },
 "nbformat": 4,
 "nbformat_minor": 2
}
