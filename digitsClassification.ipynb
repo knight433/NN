{
 "cells": [
  {
   "cell_type": "code",
   "execution_count": 1,
   "metadata": {},
   "outputs": [
    {
     "name": "stdout",
     "output_type": "stream",
     "text": [
      "28\n"
     ]
    }
   ],
   "source": [
    "import numpy as np\n",
    "import neuralNetwork \n",
    "from os.path  import join\n",
    "from datasetLoad import MnistDataloader"
   ]
  },
  {
   "cell_type": "code",
   "execution_count": 2,
   "metadata": {},
   "outputs": [],
   "source": [
    "input_path = r'C:\\programs\\projects\\NN\\input'\n",
    "training_images_filepath = join(input_path, 'train-images-idx3-ubyte/train-images-idx3-ubyte')\n",
    "training_labels_filepath = join(input_path, 'train-labels-idx1-ubyte/train-labels-idx1-ubyte')\n",
    "test_images_filepath = join(input_path, 't10k-images-idx3-ubyte/t10k-images-idx3-ubyte')\n",
    "test_labels_filepath = join(input_path, 't10k-labels-idx1-ubyte/t10k-labels-idx1-ubyte')\n",
    "\n",
    "\n",
    "mnist_dataloader = MnistDataloader(training_images_filepath, training_labels_filepath, test_images_filepath, test_labels_filepath)\n",
    "(x_train, y_train), (x_test, y_test) = mnist_dataloader.load_data()\n",
    "\n",
    "x_train = np.array(x_train)\n",
    "x_test = np.array(x_test)\n",
    "\n",
    "# print(x_test[1],y_test[1])"
   ]
  },
  {
   "cell_type": "code",
   "execution_count": 3,
   "metadata": {},
   "outputs": [
    {
     "data": {
      "text/plain": [
       "'\\ninput parameters = 784\\nnumber of layers = 3\\n\\nlayer 1:\\nnumber of input: 784\\nnumber of neurons: 16\\nEnter the activation funtion: relu\\n\\nlayer 2:\\nnumber of input: 16\\nnumber of neurons: 16\\nEnter the activation funtion: relu\\n\\nlayer 3:\\nnumber of input: 16\\nnumber of neurons: 10\\nEnter the activation funtion: sigmoid\\n'"
      ]
     },
     "execution_count": 3,
     "metadata": {},
     "output_type": "execute_result"
    }
   ],
   "source": [
    "# Flatten the training and test images\n",
    "x_train_flat = x_train.reshape(x_train.shape[0], -1)  \n",
    "x_test_flat = x_test.reshape(x_test.shape[0], -1)     \n",
    "\n",
    "testInputs = [784 ,3,784,16,'relu',16,16,'relu',16,10,'sigmoid']\n",
    "model = neuralNetwork.ModelTest(testInputs)\n",
    "\n",
    "'''\n",
    "input parameters = 784\n",
    "number of layers = 3\n",
    "\n",
    "layer 1:\n",
    "number of input: 784\n",
    "number of neurons: 16\n",
    "Enter the activation funtion: relu\n",
    "\n",
    "layer 2:\n",
    "number of input: 16\n",
    "number of neurons: 16\n",
    "Enter the activation funtion: relu\n",
    "\n",
    "layer 3:\n",
    "number of input: 16\n",
    "number of neurons: 10\n",
    "Enter the activation funtion: sigmoid\n",
    "'''"
   ]
  },
  {
   "cell_type": "code",
   "execution_count": 4,
   "metadata": {},
   "outputs": [
    {
     "name": "stdout",
     "output_type": "stream",
     "text": [
      "here\n",
      "shapeofIN = (1, 784), shapeofWI = (784, 16)\n",
      "shapeofIN = (1, 16), shapeofWI = (16, 16)\n",
      "shapeofIN = (1, 16), shapeofWI = (16, 10)\n",
      "wei = (16, 16)\n",
      "new = [[   0.         1512.8856346    83.25098562  607.37425209    0.\n",
      "   433.48998939    8.90985075 1570.58619258  130.14747408 2148.89883487\n",
      "     0.         1177.33412235  872.31690416  393.50758381  802.58227331\n",
      "  3529.86465108]]\n",
      "here\n",
      "shapeofIN = (1, 784), shapeofWI = (784, 16)\n",
      "shapeofIN = (1, 16), shapeofWI = (784, 16)\n"
     ]
    },
    {
     "name": "stderr",
     "output_type": "stream",
     "text": [
      "c:\\programs\\projects\\NN\\neuralNetwork.py:34: RuntimeWarning: overflow encountered in exp\n",
      "  return 1 / (1 + np.exp(-values))\n"
     ]
    },
    {
     "ename": "ValueError",
     "evalue": "shapes (1,16) and (784,16) not aligned: 16 (dim 1) != 784 (dim 0)",
     "output_type": "error",
     "traceback": [
      "\u001b[1;31m---------------------------------------------------------------------------\u001b[0m",
      "\u001b[1;31mValueError\u001b[0m                                Traceback (most recent call last)",
      "Cell \u001b[1;32mIn[4], line 3\u001b[0m\n\u001b[0;32m      1\u001b[0m \u001b[38;5;28;01mfor\u001b[39;00m x, y \u001b[38;5;129;01min\u001b[39;00m \u001b[38;5;28mzip\u001b[39m(x_train_flat, y_train):\n\u001b[0;32m      2\u001b[0m     x \u001b[38;5;241m=\u001b[39m np\u001b[38;5;241m.\u001b[39marray([x])\n\u001b[1;32m----> 3\u001b[0m     \u001b[43mmodel\u001b[49m\u001b[38;5;241;43m.\u001b[39;49m\u001b[43mtrain\u001b[49m\u001b[43m(\u001b[49m\u001b[43mx\u001b[49m\u001b[43m,\u001b[49m\u001b[43m \u001b[49m\u001b[43my\u001b[49m\u001b[43m)\u001b[49m\n",
      "File \u001b[1;32mc:\\programs\\projects\\NN\\neuralNetwork.py:221\u001b[0m, in \u001b[0;36mModelTest.train\u001b[1;34m(self, data, label, learningRate)\u001b[0m\n\u001b[0;32m    219\u001b[0m \u001b[38;5;28;01mdef\u001b[39;00m \u001b[38;5;21mtrain\u001b[39m(\u001b[38;5;28mself\u001b[39m,data,label,learningRate\u001b[38;5;241m=\u001b[39m\u001b[38;5;241m0.1\u001b[39m):\n\u001b[0;32m    220\u001b[0m     \u001b[38;5;28mprint\u001b[39m(\u001b[38;5;124m'\u001b[39m\u001b[38;5;124mhere\u001b[39m\u001b[38;5;124m'\u001b[39m) \u001b[38;5;66;03m#debugging\u001b[39;00m\n\u001b[1;32m--> 221\u001b[0m     pridiction \u001b[38;5;241m=\u001b[39m \u001b[38;5;28;43mself\u001b[39;49m\u001b[38;5;241;43m.\u001b[39;49m\u001b[43mpridict\u001b[49m\u001b[43m(\u001b[49m\u001b[43mdata\u001b[49m\u001b[43m,\u001b[49m\u001b[43mForTraining\u001b[49m\u001b[43m \u001b[49m\u001b[38;5;241;43m=\u001b[39;49m\u001b[43m \u001b[49m\u001b[38;5;28;43;01mTrue\u001b[39;49;00m\u001b[43m)\u001b[49m\n\u001b[0;32m    222\u001b[0m     reqArr \u001b[38;5;241m=\u001b[39mnp\u001b[38;5;241m.\u001b[39marray([\u001b[38;5;241m0\u001b[39m \u001b[38;5;28;01mfor\u001b[39;00m i \u001b[38;5;129;01min\u001b[39;00m \u001b[38;5;28mrange\u001b[39m(\u001b[38;5;28mself\u001b[39m\u001b[38;5;241m.\u001b[39mnumberOfLabels)])\n\u001b[0;32m    223\u001b[0m     reqArr[label] \u001b[38;5;241m=\u001b[39m \u001b[38;5;241m1\u001b[39m\n",
      "File \u001b[1;32mc:\\programs\\projects\\NN\\neuralNetwork.py:198\u001b[0m, in \u001b[0;36mModelTest.pridict\u001b[1;34m(self, data, ForTraining)\u001b[0m\n\u001b[0;32m    195\u001b[0m arr \u001b[38;5;241m=\u001b[39m data\n\u001b[0;32m    197\u001b[0m \u001b[38;5;28;01mfor\u001b[39;00m layer \u001b[38;5;129;01min\u001b[39;00m \u001b[38;5;28mself\u001b[39m\u001b[38;5;241m.\u001b[39mlistOfHiddenLayers:\n\u001b[1;32m--> 198\u001b[0m     arr \u001b[38;5;241m=\u001b[39m \u001b[43mlayer\u001b[49m\u001b[38;5;241;43m.\u001b[39;49m\u001b[43mforward\u001b[49m\u001b[43m(\u001b[49m\u001b[43marr\u001b[49m\u001b[43m)\u001b[49m\n\u001b[0;32m    200\u001b[0m \u001b[38;5;28;01mif\u001b[39;00m ForTraining:\n\u001b[0;32m    201\u001b[0m     \u001b[38;5;28;01mreturn\u001b[39;00m arr\n",
      "File \u001b[1;32mc:\\programs\\projects\\NN\\neuralNetwork.py:60\u001b[0m, in \u001b[0;36mlayers.forward\u001b[1;34m(self, input_matrix)\u001b[0m\n\u001b[0;32m     58\u001b[0m \u001b[38;5;28;01mdef\u001b[39;00m \u001b[38;5;21mforward\u001b[39m(\u001b[38;5;28mself\u001b[39m, input_matrix):\n\u001b[0;32m     59\u001b[0m     \u001b[38;5;28mprint\u001b[39m(\u001b[38;5;124mf\u001b[39m\u001b[38;5;124m'\u001b[39m\u001b[38;5;124mshapeofIN = \u001b[39m\u001b[38;5;132;01m{\u001b[39;00mnp\u001b[38;5;241m.\u001b[39mshape(input_matrix)\u001b[38;5;132;01m}\u001b[39;00m\u001b[38;5;124m, shapeofWI = \u001b[39m\u001b[38;5;132;01m{\u001b[39;00mnp\u001b[38;5;241m.\u001b[39mshape(\u001b[38;5;28mself\u001b[39m\u001b[38;5;241m.\u001b[39mweight_matrix)\u001b[38;5;132;01m}\u001b[39;00m\u001b[38;5;124m'\u001b[39m) \u001b[38;5;66;03m#debugging\u001b[39;00m\n\u001b[1;32m---> 60\u001b[0m     values \u001b[38;5;241m=\u001b[39m \u001b[43mnp\u001b[49m\u001b[38;5;241;43m.\u001b[39;49m\u001b[43mdot\u001b[49m\u001b[43m(\u001b[49m\u001b[43minput_matrix\u001b[49m\u001b[43m,\u001b[49m\u001b[38;5;28;43mself\u001b[39;49m\u001b[38;5;241;43m.\u001b[39;49m\u001b[43mweight_matrix\u001b[49m\u001b[43m)\u001b[49m \u001b[38;5;241m+\u001b[39m \u001b[38;5;28mself\u001b[39m\u001b[38;5;241m.\u001b[39mbias\n\u001b[0;32m     61\u001b[0m     \u001b[38;5;28mself\u001b[39m\u001b[38;5;241m.\u001b[39mneuronValues \u001b[38;5;241m=\u001b[39m  \u001b[38;5;28mself\u001b[39m\u001b[38;5;241m.\u001b[39mapply_activation(values)\n\u001b[0;32m     62\u001b[0m     \u001b[38;5;66;03m# print(self.neuronValues) #debugging\u001b[39;00m\n",
      "\u001b[1;31mValueError\u001b[0m: shapes (1,16) and (784,16) not aligned: 16 (dim 1) != 784 (dim 0)"
     ]
    }
   ],
   "source": [
    "for x, y in zip(x_train_flat, y_train):\n",
    "    x = np.array([x])\n",
    "    model.train(x, y)\n"
   ]
  },
  {
   "cell_type": "code",
   "execution_count": null,
   "metadata": {},
   "outputs": [
    {
     "name": "stdout",
     "output_type": "stream",
     "text": [
      "[[ 312.70795421    0.          659.66035991    0.            0.\n",
      "   202.32734049    0.            0.            0.            0.\n",
      "   796.61605486 1666.14526113 1366.73697261  405.05207695   63.8154843\n",
      "     0.        ]]\n",
      "[[1244.67081574    0.           50.4632191     0.            0.\n",
      "     0.          389.93838025    0.            0.          791.08213188\n",
      "  1399.00574794    0.            0.          261.57572019  914.36981593\n",
      "     0.        ]]\n",
      "[[0.00000000e+000 1.00000000e+000 0.00000000e+000 0.00000000e+000\n",
      "  0.00000000e+000 0.00000000e+000 1.70889831e-309 0.00000000e+000\n",
      "  0.00000000e+000 0.00000000e+000]]\n"
     ]
    },
    {
     "data": {
      "text/plain": [
       "{'label': 9, 'confidence': 0.0}"
      ]
     },
     "execution_count": 4,
     "metadata": {},
     "output_type": "execute_result"
    }
   ],
   "source": [
    "a = np.array([x_train_flat[0]])\n",
    "model.pridict(a)"
   ]
  }
 ],
 "metadata": {
  "kernelspec": {
   "display_name": "Python 3",
   "language": "python",
   "name": "python3"
  },
  "language_info": {
   "codemirror_mode": {
    "name": "ipython",
    "version": 3
   },
   "file_extension": ".py",
   "mimetype": "text/x-python",
   "name": "python",
   "nbconvert_exporter": "python",
   "pygments_lexer": "ipython3",
   "version": "3.11.5"
  }
 },
 "nbformat": 4,
 "nbformat_minor": 2
}
