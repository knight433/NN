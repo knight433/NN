{
 "cells": [
  {
   "cell_type": "code",
   "execution_count": 1,
   "metadata": {},
   "outputs": [],
   "source": [
    "import numpy as np"
   ]
  },
  {
   "cell_type": "code",
   "execution_count": 2,
   "metadata": {},
   "outputs": [],
   "source": [
    "class InputLayer:\n",
    "\n",
    "    def __init__(self, number_of_input): \n",
    "        self.number_of_input = number_of_input\n",
    "    \n",
    "    #to add the vlaues in the network \n",
    "    def use(self, input_matrix):\n",
    "        if isinstance(input_matrix,np.ndarray):\n",
    "            return input_matrix\n",
    "        else:\n",
    "            self.out_matrix = np.array(input_matrix)\n",
    "            return self.out_matrix\n",
    "\n",
    "class HiddenLayer:\n",
    "    def __init__(self, number_of_input, number_of_neurons, activation='relu'):\n",
    "        low, high = -1, 1\n",
    "        self.weight_matrix = np.random.uniform(low, high, size=(number_of_input, number_of_neurons))\n",
    "        self.bias = np.random.uniform(low, high, size=(1, number_of_neurons))\n",
    "        self.activation = activation\n",
    "\n",
    "    def apply_activation(self, values):\n",
    "        if self.activation == 'relu':\n",
    "            return np.maximum(0, values)\n",
    "        elif self.activation == 'sigmoid':\n",
    "            return 1 / (1 + np.exp(-values))\n",
    "        elif self.activation == 'tanh':\n",
    "            return np.tanh(values)\n",
    "        else:\n",
    "            return values  # No activation (identity)\n",
    "\n",
    "    def forward(self, input_matrix):\n",
    "        values = np.dot(input_matrix, self.weight_matrix) + self.bias\n",
    "        return self.apply_activation(values)\n",
    "\n",
    "\n",
    "            "
   ]
  },
  {
   "cell_type": "code",
   "execution_count": 16,
   "metadata": {},
   "outputs": [],
   "source": [
    "class Model:\n",
    "   \n",
    "    def __init__(self):\n",
    "        self.inputNumber = input('Enter the number of input paramentes') # input nodes\n",
    "        self.numberOfLayers = 3 #number of hidden layer and output layer\n",
    "\n",
    "        self.listOfHiddenLayers = []\n",
    "        self.inLayerObj = InputLayer(self.inputNumber)\n",
    "\n",
    "        for i in range(self.numberOfLayers):\n",
    "            number_of_input = int(input('number of input: '))\n",
    "            numberOfNeurons = int(input('number of neurons: '))\n",
    "            activation = input('Enter the activation funtion: ')\n",
    "            hidden_layer_obj = HiddenLayer(number_of_input,numberOfNeurons,activation)\n",
    "\n",
    "            self.listOfHiddenLayers.append(hidden_layer_obj)\n",
    "    \n",
    "    #to get cost funtion of the layer \n",
    "    def costFuntion(self,value_matrix,lable,layerSize):\n",
    "        \n",
    "        req_arr = [0 for i in range(layerSize-1)]\n",
    "        req_arr[lable] = 1\n",
    "        cost_funtion = np.subtract(value_matrix,req_arr)\n",
    "\n",
    "        return cost_funtion\n",
    "\n",
    "    #pridict while training\n",
    "    def train_pridict(self,features):\n",
    "        \n",
    "        arr = self.inLayerObj.use(features)\n",
    "\n",
    "        for layer in self.listOfHiddenLayers:\n",
    "            arr = layer.forward(arr)\n",
    "        \n",
    "        return arr\n",
    "    \n",
    "    #to train the data\n",
    "    def train(self,data):\n",
    "        \n",
    "        n = len(data[0]) - 2 \n",
    "\n",
    "        for row in data:\n",
    "            \n",
    "            label = row[0]\n",
    "            features = row[1:n]\n",
    "    \n",
    "\n",
    "    def pridict(self,data):\n",
    "\n",
    "        arr = self.inLayerObj.use(data)\n",
    "        \n",
    "        for layer in self.listOfHiddenLayers:\n",
    "            arr = layer.forward(arr)\n",
    "\n",
    "        pridiction_value = -1\n",
    "        pridiction = None\n",
    "\n",
    "        for i,obj in enumerate(arr[0]):\n",
    "            print(f'i = {i} obj = {obj}') #debugging\n",
    "            if pridiction_value < obj:\n",
    "                pridiction = {f'label : {i} confidence = {obj}'}\n",
    "        \n",
    "        return pridiction"
   ]
  },
  {
   "cell_type": "code",
   "execution_count": 4,
   "metadata": {},
   "outputs": [],
   "source": [
    "#for random vlaues\n",
    "\n",
    "arr1 = np.random.randint(1,5,size=10)\n",
    "list1 = [1, 1, 3, 2, 3, 4, 4, 1, 3, 3]\n",
    "hidObj1 = HiddenLayer(10,16)\n",
    "hidObj2 = HiddenLayer(16,16)\n",
    "hidObj3 = HiddenLayer(16,2)"
   ]
  },
  {
   "cell_type": "code",
   "execution_count": 17,
   "metadata": {},
   "outputs": [
    {
     "name": "stdout",
     "output_type": "stream",
     "text": [
      "i = 0 obj = 4.937645171123963e-08\n",
      "i = 1 obj = 0.9997568897609289\n",
      "i = 2 obj = 8.728113076426017e-16\n",
      "i = 3 obj = 0.0037953840234718054\n",
      "i = 4 obj = 0.9999999921791803\n",
      "0.9999999921791803\n"
     ]
    }
   ],
   "source": [
    "#testing class\n",
    "mod = Model()\n",
    "print(mod.pridict(list1))\n"
   ]
  }
 ],
 "metadata": {
  "kernelspec": {
   "display_name": "Python 3",
   "language": "python",
   "name": "python3"
  },
  "language_info": {
   "codemirror_mode": {
    "name": "ipython",
    "version": 3
   },
   "file_extension": ".py",
   "mimetype": "text/x-python",
   "name": "python",
   "nbconvert_exporter": "python",
   "pygments_lexer": "ipython3",
   "version": "3.11.5"
  }
 },
 "nbformat": 4,
 "nbformat_minor": 2
}
