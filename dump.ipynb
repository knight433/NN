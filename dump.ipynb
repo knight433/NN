{
 "cells": [
  {
   "cell_type": "code",
   "execution_count": null,
   "metadata": {},
   "outputs": [],
   "source": [
    "import numpy as np"
   ]
  },
  {
   "cell_type": "code",
   "execution_count": null,
   "metadata": {},
   "outputs": [],
   "source": [
    "class InputLayer:\n",
    "\n",
    "    def __init__(self, number_of_input): \n",
    "        self.number_of_input = number_of_input\n",
    "    \n",
    "    #to add the vlaues in the network \n",
    "    def use(self, input_matrix):\n",
    "        self.out_matrix = np.array(input_matrix)\n",
    "        return self.out_matrix\n",
    "\n",
    "class HiddenLayer:\n",
    "    def __init__(self, number_of_input, number_of_neurons, activation='relu'):\n",
    "        low, high = 1, 10\n",
    "        self.weight_matrix = np.random.randint(low, high, size=(number_of_input, number_of_neurons))\n",
    "        self.bias = np.random.randint(low, high, size=(1, number_of_neurons))\n",
    "        self.activation = activation\n",
    "\n",
    "    def apply_activation(self, values):\n",
    "        if self.activation == 'relu':\n",
    "            return np.maximum(0, values)\n",
    "        elif self.activation == 'sigmoid':\n",
    "            return 1 / (1 + np.exp(-values))\n",
    "        elif self.activation == 'tanh':\n",
    "            return np.tanh(values)\n",
    "        else:\n",
    "            return values  # No activation (identity)\n",
    "\n",
    "    def forward(self, input_matrix):\n",
    "        values = np.dot(input_matrix, self.weight_matrix) + self.bias\n",
    "        return self.apply_activation(values)\n",
    "\n",
    "class Model:\n",
    "   \n",
    "    def __init__(self):\n",
    "        self.inputNumber = 786 # input nodes\n",
    "        self.numberOfLayers = 3 #number of hidden layer and output layer\n",
    "\n",
    "        self.inLayerObj = InputLayer(self.inputNumber)\n",
    "\n",
    "        for i in range(self.numberOfLayers):\n",
    "            pass\n",
    "\n"
   ]
  }
 ],
 "metadata": {
  "language_info": {
   "name": "python"
  }
 },
 "nbformat": 4,
 "nbformat_minor": 2
}
